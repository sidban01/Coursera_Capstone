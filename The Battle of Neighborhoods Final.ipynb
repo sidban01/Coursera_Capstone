{
 "cells": [
  {
   "cell_type": "markdown",
   "metadata": {},
   "source": [
    "# Analysis of San Francisco Neighborhoods to open an Indian Restaurant"
   ]
  },
  {
   "cell_type": "markdown",
   "metadata": {},
   "source": [
    "### Introduction"
   ]
  },
  {
   "cell_type": "markdown",
   "metadata": {},
   "source": [
    "In this analysis, I have attempted to analyze the best possible location to open an Indian restaurant in San Francisco. California has the highest number of Indian-Americans of which San Francisco has the highest number of Indians living in the city. Thus it is an interesting prospect to open an Indian restaurant keeping in mind the high number of Indian population living there. I have made use of the Foursquare API to explore neighborhoods in San Francisco City. I used the explore function based on a search criteria to search Indian restaurants in the city. Finally, I used the Folium library to visualize the neighborhoods in San Francisco City and their emerging clusters. This should help understand whether it would be a good idea to set up in a high or low concentrated place with Indian restaurants nearby other Indian restaurants keeping in mind competition from similar cuisine restaurant. Simultaneously, I have made use of San Francisco Crimes data obtained from the various Police Departments within the city and converted the addresses into their equivalent latitude and longitude values. The subsequent sections describe in detail my work as below."
   ]
  },
  {
   "cell_type": "code",
   "execution_count": null,
   "metadata": {},
   "outputs": [],
   "source": [
    "import numpy as np # library to handle data in a vectorized manner\n",
    "\n",
    "import pandas as pd # library for data analsysis\n",
    "pd.set_option('display.max_columns', None)\n",
    "pd.set_option('display.max_rows', None)\n",
    "\n",
    "import json # library to handle JSON files\n",
    "\n",
    "#!conda install -c conda-forge geopy --yes # uncomment this line if you haven't completed the Foursquare API lab\n",
    "from geopy.geocoders import Nominatim # convert an address into latitude and longitude values\n",
    "\n",
    "import requests # library to handle requests\n",
    "from pandas.io.json import json_normalize # tranform JSON file into a pandas dataframe\n",
    "\n",
    "# Matplotlib and associated plotting modules\n",
    "import matplotlib.cm as cm\n",
    "import matplotlib.colors as colors\n",
    "\n",
    "# import k-means from clustering stage\n",
    "from sklearn.cluster import KMeans\n",
    "\n",
    "#!conda install -c conda-forge folium=0.5.0 --yes # uncomment this line if you haven't completed the Foursquare API lab\n",
    "import folium # map rendering library\n",
    "\n",
    "print('Libraries imported.')"
   ]
  },
  {
   "cell_type": "markdown",
   "metadata": {},
   "source": [
    "Let's download and import the data on police department incidents using pandas read_csv() method.\n",
    "\n",
    "Download the dataset and read it into a pandas dataframe:"
   ]
  },
  {
   "cell_type": "code",
   "execution_count": null,
   "metadata": {},
   "outputs": [],
   "source": [
    "df_incidents = pd.read_csv('https://s3-api.us-geo.objectstorage.softlayer.net/cf-courses-data/CognitiveClass/DV0101EN/labs/Data_Files/Police_Department_Incidents_-_Previous_Year__2016_.csv')\n",
    "\n",
    "print('Dataset downloaded and read into a pandas dataframe!')"
   ]
  },
  {
   "cell_type": "markdown",
   "metadata": {},
   "source": [
    "Let's take a look at the first five items in our dataset."
   ]
  },
  {
   "cell_type": "code",
   "execution_count": null,
   "metadata": {},
   "outputs": [],
   "source": [
    "df_incidents.head()"
   ]
  },
  {
   "cell_type": "markdown",
   "metadata": {},
   "source": [
    "So each row consists of 13 features:\n",
    "\n",
    "        1. IncidntNum: Incident Number\n",
    "        2. Category: Category of crime or incident\n",
    "        3. Descript: Description of the crime or incident\n",
    "        4. DayOfWeek: The day of week on which the incident occurred\n",
    "        5. Date: The Date on which the incident occurred\n",
    "        6. Time: The time of day on which the incident occurred\n",
    "        7. PdDistrict: The police department district\n",
    "        8. Resolution: The resolution of the crime in terms whether the perpetrator was arrested or not\n",
    "        9. Address: The closest address to where the incident took place\n",
    "        10. X: The longitude value of the crime location\n",
    "        11. Y: The latitude value of the crime location\n",
    "        12. Location: A tuple of the latitude and the longitude values, and finally\n",
    "        13. PdId: The police department ID"
   ]
  },
  {
   "cell_type": "markdown",
   "metadata": {},
   "source": [
    "Let's find out how many entries there are in our dataset."
   ]
  },
  {
   "cell_type": "code",
   "execution_count": null,
   "metadata": {},
   "outputs": [],
   "source": [
    "df_incidents.shape"
   ]
  },
  {
   "cell_type": "markdown",
   "metadata": {},
   "source": [
    "So the dataframe consists of 150,500 crimes, which took place in the year 2016."
   ]
  },
  {
   "cell_type": "code",
   "execution_count": null,
   "metadata": {},
   "outputs": [],
   "source": [
    "import matplotlib.pyplot as plt\n",
    "%matplotlib inline\n",
    "plt.figure(figsize=(10,12)) #Increasing the figure size to 10 by 12\n",
    "plt.plot(df_incidents.groupby(['PdDistrict']).count())\n",
    "#plt.show()\n",
    "plt.savefig('Desktop/crimes_by_pd.png')"
   ]
  },
  {
   "cell_type": "code",
   "execution_count": null,
   "metadata": {},
   "outputs": [],
   "source": [
    "df_incidents['PdDistrict'].unique()"
   ]
  },
  {
   "cell_type": "code",
   "execution_count": null,
   "metadata": {},
   "outputs": [],
   "source": [
    "#Counting the number of nan rows in PdDistrict column\n",
    "df_incidents['PdDistrict'].isna().sum()"
   ]
  },
  {
   "cell_type": "markdown",
   "metadata": {},
   "source": [
    "We see there is just 1 row with nan value for PdDistricts. So we remove it from our dataset"
   ]
  },
  {
   "cell_type": "code",
   "execution_count": null,
   "metadata": {},
   "outputs": [],
   "source": [
    "df_incident = df_incidents.dropna(subset = ['PdDistrict'], inplace = True)\n",
    "df_incidents.shape"
   ]
  },
  {
   "cell_type": "code",
   "execution_count": null,
   "metadata": {},
   "outputs": [],
   "source": [
    "df_day = df_incidents.groupby(['DayOfWeek','PdDistrict'], sort=True).size().reset_index(name='Count')\n",
    "print (df_day)"
   ]
  },
  {
   "cell_type": "code",
   "execution_count": null,
   "metadata": {},
   "outputs": [],
   "source": [
    "df_day.boxplot('Count','PdDistrict',rot = 30, figsize=(10,12))\n",
    "plt.savefig('Desktop/boxplot_PdDistrict.png')\n",
    "df_day.boxplot('Count', 'DayOfWeek', rot = 30, figsize=(10,12))\n",
    "plt.savefig('Desktop/boxplot_DayOfWeek.png')"
   ]
  },
  {
   "cell_type": "code",
   "execution_count": null,
   "metadata": {},
   "outputs": [],
   "source": [
    "pd_loc = df_incidents.groupby('PdDistrict', as_index=False)['X'].mean()\n",
    "pd_y = df_incidents.groupby('PdDistrict', as_index=False)['Y'].mean()"
   ]
  },
  {
   "cell_type": "code",
   "execution_count": null,
   "metadata": {},
   "outputs": [],
   "source": [
    "pd_loc"
   ]
  },
  {
   "cell_type": "code",
   "execution_count": null,
   "metadata": {},
   "outputs": [],
   "source": [
    "pd_y"
   ]
  },
  {
   "cell_type": "code",
   "execution_count": null,
   "metadata": {},
   "outputs": [],
   "source": [
    "pd_loc['Y'] = pd_y['Y']\n",
    "pd_loc.head()"
   ]
  },
  {
   "cell_type": "markdown",
   "metadata": {},
   "source": [
    "Let's check the data grouped by the 'Resolution' of the crime to see how many crimes were committed under each category"
   ]
  },
  {
   "cell_type": "code",
   "execution_count": null,
   "metadata": {},
   "outputs": [],
   "source": [
    "df_incidents.groupby(['Resolution']).count()"
   ]
  },
  {
   "cell_type": "markdown",
   "metadata": {},
   "source": [
    "We see that 107780 cases with resolution as 'None'. So we decide to only consider cases in this dataset for which a judgment was rendered as 'Arrest, Booked' to reduce computational cost. "
   ]
  },
  {
   "cell_type": "code",
   "execution_count": null,
   "metadata": {},
   "outputs": [],
   "source": [
    "df = df_incidents[df_incidents['Resolution'] == \"ARREST, BOOKED\"]\n",
    "\n",
    "df = df.loc[:, ['PdDistrict', 'X', 'Y']]"
   ]
  },
  {
   "cell_type": "code",
   "execution_count": null,
   "metadata": {},
   "outputs": [],
   "source": [
    "df.shape"
   ]
  },
  {
   "cell_type": "markdown",
   "metadata": {},
   "source": [
    "#### Use geopy library to get the latitude and longitude values of San Francisco City."
   ]
  },
  {
   "cell_type": "markdown",
   "metadata": {},
   "source": [
    "In order to define an instance of the geocoder, we need to define a user_agent. We will name our agent sf_explorer, as shown below."
   ]
  },
  {
   "cell_type": "code",
   "execution_count": null,
   "metadata": {},
   "outputs": [],
   "source": [
    "address = 'San Francisco, US'\n",
    "\n",
    "geolocator = Nominatim(user_agent=\"sf_explorer\")\n",
    "location = geolocator.geocode(address)\n",
    "latitude = location.latitude\n",
    "longitude = location.longitude\n",
    "print('The geograpical coordinate of San Francisco City are {}, {}.'.format(latitude, longitude))"
   ]
  },
  {
   "cell_type": "markdown",
   "metadata": {},
   "source": [
    "Create a map of San Francisco with crime locations superimposed on top."
   ]
  },
  {
   "cell_type": "code",
   "execution_count": null,
   "metadata": {},
   "outputs": [],
   "source": [
    "# create map of San Francisco using latitude and longitude values\n",
    "map_sf = folium.Map(location=[latitude, longitude], zoom_start=12)\n",
    "\n",
    "# add markers to map\n",
    "for lat, lng, pdd in zip(df['Y'], df['X'], df['PdDistrict']):\n",
    "    label = '{}'.format(pdd)\n",
    "    label = folium.Popup(label, parse_html=True)\n",
    "    folium.CircleMarker(\n",
    "        [lat, lng],\n",
    "        radius=1,\n",
    "        popup=label,\n",
    "        color='blue',\n",
    "        fill=True,\n",
    "        fill_color='#3186cc',\n",
    "        fill_opacity=0.4,\n",
    "        parse_html=False).add_to(map_sf)  \n",
    "    \n",
    "#add markers of police districts to this\n",
    "for lat, lng, pdd in zip(pd_loc['Y'], pd_loc['X'], pd_loc['PdDistrict']):\n",
    "    label = '{}'.format(pdd)\n",
    "    label = folium.Popup(label, parse_html=True)\n",
    "    folium.CircleMarker(\n",
    "        [lat, lng],\n",
    "        radius=5,\n",
    "        popup=label,\n",
    "        color='black',\n",
    "        fill=True,\n",
    "        fill_color='#03090e',\n",
    "        fill_opacity=0.7,\n",
    "        parse_html=False).add_to(map_sf)\n",
    "    \n",
    "map_sf"
   ]
  },
  {
   "cell_type": "markdown",
   "metadata": {},
   "source": [
    "### Next, we are going to start utilizing the Foursquare API to explore the neighborhoods and segment them."
   ]
  },
  {
   "cell_type": "markdown",
   "metadata": {},
   "source": [
    "##### Define Foursquare Credentials and Version"
   ]
  },
  {
   "cell_type": "code",
   "execution_count": null,
   "metadata": {},
   "outputs": [],
   "source": [
    "CLIENT_ID = 'P2K5NE5IKNOXSQLD25PSE3C0UL42FTA1OURHPJYGM5PH4V3N' # your Foursquare ID\n",
    "CLIENT_SECRET = 'DNCD4LYOOS5LGQSCFYHFDJUHAUCLRRVENODCY1BG4OD2UP4T' # your Foursquare Secret\n",
    "VERSION = '20200605' # Foursquare API version\n",
    "\n",
    "print('Your credentails:')\n",
    "print('CLIENT_ID: ' + CLIENT_ID)\n",
    "print('CLIENT_SECRET:' + CLIENT_SECRET)"
   ]
  },
  {
   "cell_type": "markdown",
   "metadata": {},
   "source": [
    "##### Let's explore the first Police District in our dataframe."
   ]
  },
  {
   "cell_type": "code",
   "execution_count": null,
   "metadata": {},
   "outputs": [],
   "source": [
    "df.loc[0, 'PdDistrict']"
   ]
  },
  {
   "cell_type": "markdown",
   "metadata": {},
   "source": [
    "Get the district's latitude and longitude values."
   ]
  },
  {
   "cell_type": "code",
   "execution_count": null,
   "metadata": {},
   "outputs": [],
   "source": [
    "df_latitude = df.loc[0, 'Y'] # latitude value\n",
    "df_longitude = df.loc[0, 'X'] # longitude value\n",
    "\n",
    "df_name = df.loc[0, 'PdDistrict'] # Police District name\n",
    "\n",
    "print('Latitude and longitude values of {} are {}, {}.'.format(df_name, \n",
    "                                                               df_latitude, \n",
    "                                                               df_longitude))"
   ]
  },
  {
   "cell_type": "markdown",
   "metadata": {},
   "source": [
    "##### Let's search for Indian Restaurants in SF"
   ]
  },
  {
   "cell_type": "code",
   "execution_count": null,
   "metadata": {},
   "outputs": [],
   "source": [
    "#Create the url using the appropriate search criteria. \n",
    "search_query = 'Indian'\n",
    "\n",
    "LIMIT = 100 # limit of number of venues returned by Foursquare API\n",
    "radius = 10000 # Define radius of search\n",
    "\n",
    "url = 'https://api.foursquare.com/v2/venues/search?&client_id={}&client_secret={}&v={}&query={}&ll={},{}&radius={}&limit={}'.format(\n",
    "    CLIENT_ID, \n",
    "    CLIENT_SECRET, \n",
    "    VERSION,\n",
    "    search_query,\n",
    "    latitude, \n",
    "    longitude, \n",
    "    radius, \n",
    "    LIMIT)\n",
    "url # display URL"
   ]
  },
  {
   "cell_type": "markdown",
   "metadata": {},
   "source": [
    "Send the GET request and examine the results"
   ]
  },
  {
   "cell_type": "code",
   "execution_count": null,
   "metadata": {},
   "outputs": [],
   "source": [
    "results = requests.get(url).json()\n",
    "results"
   ]
  },
  {
   "cell_type": "markdown",
   "metadata": {},
   "source": [
    "##### Get relevant part of JSON and transform it into a pandas dataframe"
   ]
  },
  {
   "cell_type": "code",
   "execution_count": null,
   "metadata": {},
   "outputs": [],
   "source": [
    "# assign relevant part of JSON to venues\n",
    "venues = results['response']['venues']\n",
    "\n",
    "# tranform venues into a dataframe\n",
    "dataframe = json_normalize(venues)\n",
    "dataframe.head()"
   ]
  },
  {
   "cell_type": "code",
   "execution_count": null,
   "metadata": {},
   "outputs": [],
   "source": [
    "dataframe.shape"
   ]
  },
  {
   "cell_type": "markdown",
   "metadata": {},
   "source": [
    "##### Define information of interest and filter dataframe"
   ]
  },
  {
   "cell_type": "code",
   "execution_count": null,
   "metadata": {},
   "outputs": [],
   "source": [
    "# keep only columns that include venue name, and anything that is associated with location\n",
    "filtered_columns = ['name', 'categories'] + [col for col in dataframe.columns if col.startswith('location.')] + ['id']\n",
    "dataframe_filtered = dataframe.loc[:, filtered_columns]\n",
    "\n",
    "# function that extracts the category of the venue\n",
    "def get_category_type(row):\n",
    "    try:\n",
    "        categories_list = row['categories']\n",
    "    except:\n",
    "        categories_list = row['venue.categories']\n",
    "        \n",
    "    if len(categories_list) == 0:\n",
    "        return None\n",
    "    else:\n",
    "        return categories_list[0]['name']\n",
    "\n",
    "# filter the category for each row\n",
    "dataframe_filtered['categories'] = dataframe_filtered.apply(get_category_type, axis=1)\n",
    "\n",
    "# clean column names by keeping only last term\n",
    "dataframe_filtered.columns = [column.split('.')[-1] for column in dataframe_filtered.columns]\n",
    "\n",
    "dataframe_filtered = dataframe_filtered[dataframe_filtered['categories'] == \"Indian Restaurant\"]\n",
    "\n",
    "dataframe_filtered"
   ]
  },
  {
   "cell_type": "markdown",
   "metadata": {},
   "source": [
    "##### Let's visualize the Indian restaurants that are nearby"
   ]
  },
  {
   "cell_type": "code",
   "execution_count": null,
   "metadata": {},
   "outputs": [],
   "source": [
    "ind_rest_map = folium.Map(location=[latitude, longitude], zoom_start=12) # generate map centred around the Conrad Hotel\n",
    "\n",
    "# add a blue circle marker to represent the lat and long of San Francisco\n",
    "folium.features.CircleMarker(\n",
    "    [latitude, longitude],\n",
    "    radius=10,\n",
    "    color='blue',\n",
    "    popup='San Francisco',\n",
    "    fill = True,\n",
    "    fill_color = 'blue',\n",
    "    fill_opacity = 0.6\n",
    ").add_to(ind_rest_map)\n",
    "\n",
    "# add the Indian restaurants as red circle markers\n",
    "for lat, lng, name in zip(dataframe_filtered.lat, dataframe_filtered.lng, dataframe_filtered.name):\n",
    "    folium.features.CircleMarker(\n",
    "        [lat, lng],\n",
    "        radius=5,\n",
    "        color='red',\n",
    "        popup=name,\n",
    "        fill = True,\n",
    "        fill_color='red',\n",
    "        fill_opacity=0.6\n",
    "    ).add_to(ind_rest_map)\n",
    "\n",
    "# display map\n",
    "ind_rest_map"
   ]
  },
  {
   "cell_type": "code",
   "execution_count": null,
   "metadata": {},
   "outputs": [],
   "source": [
    "ind_rest_map = folium.Map(location=[latitude, longitude], zoom_start=12) # generate map centred around the Conrad Hotel\n",
    "\n",
    "# add a blue circle marker to represent the lat and long of San Francisco\n",
    "folium.features.CircleMarker(\n",
    "    [latitude, longitude],\n",
    "    radius=10,\n",
    "    color='yellow',\n",
    "    popup='San Francisco',\n",
    "    fill = True,\n",
    "    fill_color = 'yellow',\n",
    "    fill_opacity = 0.6\n",
    ").add_to(ind_rest_map)\n",
    "\n",
    "# add markers to map\n",
    "for lat, lng, pdd in zip(df['Y'], df['X'], df['PdDistrict']):\n",
    "    label = '{}'.format(pdd)\n",
    "    label = folium.Popup(label, parse_html=True)\n",
    "    folium.CircleMarker(\n",
    "        [lat, lng],\n",
    "        radius=1,\n",
    "        popup=label,\n",
    "        color='blue',\n",
    "        fill=True,\n",
    "        fill_color='#3186cc',\n",
    "        fill_opacity=0.4,\n",
    "        parse_html=False).add_to(ind_rest_map)  \n",
    "    \n",
    "#add markers of police districts to this\n",
    "for lat, lng, pdd in zip(pd_loc['Y'], pd_loc['X'], pd_loc['PdDistrict']):\n",
    "    label = '{}'.format(pdd)\n",
    "    label = folium.Popup(label, parse_html=True)\n",
    "    folium.CircleMarker(\n",
    "        [lat, lng],\n",
    "        radius=5,\n",
    "        popup=label,\n",
    "        color='black',\n",
    "        fill=True,\n",
    "        fill_color='#03090e',\n",
    "        fill_opacity=0.7,\n",
    "        parse_html=False).add_to(ind_rest_map)\n",
    "\n",
    "# add the Indian restaurants as red circle markers\n",
    "for lat, lng, label in zip(dataframe_filtered.lat, dataframe_filtered.lng, dataframe_filtered.name):\n",
    "    folium.features.CircleMarker(\n",
    "        [lat, lng],\n",
    "        radius=8,\n",
    "        color='red',\n",
    "        popup=label,\n",
    "        fill = True,\n",
    "        fill_color='red',\n",
    "        fill_opacity=0.6\n",
    "    ).add_to(ind_rest_map)  \n",
    "    \n",
    "# display map\n",
    "ind_rest_map"
   ]
  },
  {
   "cell_type": "code",
   "execution_count": null,
   "metadata": {},
   "outputs": [],
   "source": []
  }
 ],
 "metadata": {
  "kernelspec": {
   "display_name": "Python 3",
   "language": "python",
   "name": "python3"
  },
  "language_info": {
   "codemirror_mode": {
    "name": "ipython",
    "version": 3
   },
   "file_extension": ".py",
   "mimetype": "text/x-python",
   "name": "python",
   "nbconvert_exporter": "python",
   "pygments_lexer": "ipython3",
   "version": "3.7.3"
  }
 },
 "nbformat": 4,
 "nbformat_minor": 2
}
